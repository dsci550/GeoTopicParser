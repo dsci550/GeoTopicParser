{
  "cells": [
    {
      "cell_type": "code",
      "execution_count": 40,
      "metadata": {},
      "outputs": [],
      "source": [
        "import pandas as pd\n",
        "import subprocess\n",
        "import tempfile\n",
        "import os\n",
        "import json"
      ]
    },
    {
      "cell_type": "code",
      "execution_count": 41,
      "metadata": {},
      "outputs": [],
      "source": [
        "# Load and process data\n",
        "csv_file_path = '/Users/main/Desktop/bfro_reports.csv' # update path\n",
        "data = pd.read_csv(csv_file_path)\n",
        "relevant_fields = ['State', 'County', 'Location Details', 'Nearest Town', 'Nearest Road', 'Observed', 'Also Noticed']\n",
        "\n",
        "# Initialize columns for geographic information\n",
        "data['Location_Name'] = None\n",
        "data['Latitude'] = None\n",
        "data['Longitude'] = None"
      ]
    },
    {
      "cell_type": "code",
      "execution_count": 42,
      "metadata": {},
      "outputs": [],
      "source": [
        "def extract_geo_info_from_file(file_path):\n",
        "    # Initialize the variables at the start of the function\n",
        "    geo_info, lat, lng = 'Unknown', 'Unknown', 'Unknown'\n",
        "\n",
        "    command = [\n",
        "        'java', '-Xmx4g',\n",
        "        '-cp', '/opt/homebrew/opt/tika/libexec/tika-app.jar:/opt/homebrew/opt/tika/libexec/tika-parser-nlp-package.jar:/opt/homebrew/opt/tika/libexec/location-ner-model',\n",
        "        'org.apache.tika.cli.TikaCLI',\n",
        "        '-m', file_path\n",
        "    ] # update paths\n",
        "    \n",
        "    try:\n",
        "        result = subprocess.run(command, capture_output=True, text=True, check=True)\n",
        "        lines = result.stdout.splitlines()\n",
        "        geo_info, lat, lng = 'Unknown', 'Unknown', 'Unknown'\n",
        "        for line in lines:\n",
        "            if 'Geographic_NAME' in line:\n",
        "                geo_info = line.split(':', 1)[1].strip()\n",
        "            elif 'Geographic_LATITUDE' in line:\n",
        "                lat = line.split(':', 1)[1].strip()\n",
        "            elif 'Geographic_LONGITUDE' in line:\n",
        "                lng = line.split(':', 1)[1].strip()\n",
        "    except subprocess.CalledProcessError:\n",
        "        print(f\"Error processing file: {file_path}\")\n",
        "    \n",
        "    return geo_info, lat, lng"
      ]
    },
    {
      "cell_type": "code",
      "execution_count": 39,
      "metadata": {},
      "outputs": [
        {
          "name": "stdout",
          "output_type": "stream",
          "text": [
            "row 0, Full Output: ('Unknown', 'Unknown', 'Unknown')\n",
            "row 1, Full Output: ('Lake Otis Park', '61.20111', '-149.83278')\n",
            "row 2, Full Output: ('North Carolina', '35.50069', '-80.00032')\n",
            "row 3, Full Output: ('Alaska', '64.00028', '-150.00028')\n",
            "row 4, Full Output: ('Unknown', 'Unknown', 'Unknown')\n",
            "row 5, Full Output: ('Town of Auburn', '42.19724', '-71.84527')\n",
            "Completed. Geographic information extracted and added to the dataset.\n"
          ]
        }
      ],
      "source": [
        "# Process each row\n",
        "for index, row in data.iterrows():\n",
        "    # Concatenate relevant fields into a single string\n",
        "    text_content = ' '.join(str(row[field]) for field in relevant_fields if pd.notnull(row[field]))\n",
        "    \n",
        "    # Write the concatenated string to a temporary .geot file\n",
        "    with tempfile.NamedTemporaryFile(delete=False, suffix='.geot', mode='w+') as tmpfile:\n",
        "        tmpfile.write(text_content)\n",
        "        tmpfile_path = tmpfile.name\n",
        "    \n",
        "    # Extract geographic information from the .geot file\n",
        "    location_name, latitude, longitude = extract_geo_info_from_file(tmpfile_path)\n",
        "    \n",
        "    # Update the DataFrame with extracted information\n",
        "    data.at[index, 'Location_Name'] = location_name\n",
        "    data.at[index, 'Latitude'] = latitude\n",
        "    data.at[index, 'Longitude'] = longitude\n",
        "    \n",
        "    print(f\"row {index}, Full Output: {location_name, latitude, longitude}\")\n",
        "\n",
        "    # Clean up the temporary file\n",
        "    os.remove(tmpfile_path)\n",
        "\n",
        "# Save the updated DataFrame to a new CSV file\n",
        "data.to_csv('/Users/main/Desktop/assignment2/updated_output.csv', index=False) # update path\n",
        "print(\"Completed. Geographic information extracted and added to the dataset.\")"
      ]
    }
  ],
  "metadata": {
    "colab": {
      "provenance": []
    },
    "kernelspec": {
      "display_name": "Python 3",
      "name": "python3"
    },
    "language_info": {
      "codemirror_mode": {
        "name": "ipython",
        "version": 3
      },
      "file_extension": ".py",
      "mimetype": "text/x-python",
      "name": "python",
      "nbconvert_exporter": "python",
      "pygments_lexer": "ipython3",
      "version": "3.12.2"
    }
  },
  "nbformat": 4,
  "nbformat_minor": 0
}
