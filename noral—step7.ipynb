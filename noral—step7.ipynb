{
  "nbformat": 4,
  "nbformat_minor": 0,
  "metadata": {
    "colab": {
      "provenance": []
    },
    "kernelspec": {
      "name": "python3",
      "display_name": "Python 3"
    },
    "language_info": {
      "name": "python"
    }
  },
  "cells": [
    {
      "cell_type": "code",
      "execution_count": null,
      "metadata": {
        "id": "WUbkn_WErihF"
      },
      "outputs": [],
      "source": [
        "import pandas as pd\n",
        "import requests\n",
        "\n",
        "def extract_geo_info(text):\n",
        "    \"\"\"\n",
        "    Extract geographic information using Apache Tika's GeoTopicParser.\n",
        "\n",
        "    Parameters:\n",
        "        text (str): The text content to parse for geographic information.\n",
        "\n",
        "    Returns:\n",
        "        tuple: A tuple containing the location name, latitude, and longitude.\n",
        "    \"\"\"\n",
        "    # Assume Apache Tika server is running on localhost at port 9998\n",
        "    tika_url = 'http://localhost:9998/rmeta'\n",
        "    headers = {'Content-Disposition': 'inline; filename=file.txt', 'Accept': 'application/json'}\n",
        "\n",
        "    response = requests.put(tika_url, headers=headers, data=text.encode('utf-8'))\n",
        "\n",
        "    if response.status_code == 200:\n",
        "        parsed = response.json()[0]\n",
        "        geo_info = parsed.get('Geographic_NAME', 'Unknown')\n",
        "        lat = parsed.get('Geographic_LATITUDE', 'Unknown')\n",
        "        lng = parsed.get('Geographic_LONGITUDE', 'Unknown')\n",
        "    else:\n",
        "        print(f\"Error: {response.status_code}\")\n",
        "        geo_info, lat, lng = 'Unknown', 'Unknown', 'Unknown'\n",
        "\n",
        "    return geo_info, lat, lng\n",
        "\n",
        "# Load the data from a local file (update the file path as necessary for your local environment)\n",
        "data = pd.read_csv('path/to/your/final_report.csv')  # Change the file path\n",
        "\n",
        "data['Location_Name'] = 'Unknown'\n",
        "data['Latitude'] = 'Unknown'\n",
        "data['Longitude'] = 'Unknown'\n",
        "\n",
        "for index, row in data.iterrows():\n",
        "    relevant_fields = ['State', 'County', 'Location Details', 'Nearest Town', 'Nearest Road', 'Observed', 'Also Noticed', 'Other Witnesses']\n",
        "    report_text = ' '.join(str(row[field]) for field in relevant_fields if pd.notnull(row[field]))\n",
        "\n",
        "    location_name, latitude, longitude = extract_geo_info(report_text)\n",
        "\n",
        "    data.at[index, 'Location_Name'] = location_name\n",
        "    data.at[index, 'Latitude'] = latitude\n",
        "    data.at[index, 'Longitude'] = longitude\n",
        "\n",
        "# Save the updated dataset to a new local CSV file\n",
        "data.to_csv('path/to/your/updated_final_report.csv', index=False)  # Change the file path\n",
        "\n",
        "print(\"Geographic information extracted and added to the dataset.\")\n",
        "\n"
      ]
    }
  ]
}