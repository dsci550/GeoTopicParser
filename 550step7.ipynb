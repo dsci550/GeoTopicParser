{
  "nbformat": 4,
  "nbformat_minor": 0,
  "metadata": {
    "colab": {
      "provenance": []
    },
    "kernelspec": {
      "name": "python3",
      "display_name": "Python 3"
    },
    "language_info": {
      "name": "python"
    }
  },
  "cells": [
    {
      "cell_type": "code",
      "source": [
        "import pandas as pd\n",
        "from tika import parser\n",
        "\n",
        "# Path to the CSV file containing BFRO sightings data\n",
        "file_path = 'bfro_reports.csv'\n",
        "\n",
        "# Load the dataset from the CSV file\n",
        "data = pd.read_csv(file_path)\n",
        "\n",
        "# Function to extract geographic information using Tika's GeoTopicParser\n",
        "def extract_geo_info(text):\n",
        "    # Parse the text using Tika's GeoTopicParser\n",
        "    parsed = parser.from_buffer(text, requestOptions={'handlers': ['geotopic']})\n",
        "\n",
        "    # Extract location name, latitude, and longitude from the parsed data\n",
        "    geo_info = parsed['metadata'].get('Geographic_NAME', 'Unknown')\n",
        "    lat = parsed['metadata'].get('Geographic_LATITUDE', 'Unknown')\n",
        "    lng = parsed['metadata'].get('Geographic_LONGITUDE', 'Unknown')\n",
        "\n",
        "    return geo_info, lat, lng\n",
        "\n",
        "# Add new columns to the dataset for the extracted geographic information\n",
        "data['Location_Name'] = 'Unknown'\n",
        "data['Latitude'] = 'Unknown'\n",
        "data['Longitude'] = 'Unknown'\n",
        "\n",
        "# Iterate over each sighting report in the dataset\n",
        "for index, row in data.iterrows():\n",
        "    # Assume the text of the sighting report is in a column named 'report_text'\n",
        "    report_text = row['report_text']\n",
        "\n",
        "    # Extract geographic information from the report text\n",
        "    location_name, latitude, longitude = extract_geo_info(report_text)\n",
        "\n",
        "    # Update the dataset with the extracted information\n",
        "    data.at[index, 'Location_Name'] = location_name\n",
        "    data.at[index, 'Latitude'] = latitude\n",
        "    data.at[index, 'Longitude'] = longitude\n",
        "\n",
        "# Save the updated dataset to a new CSV file\n",
        "data.to_csv('updated_bfro_reports.csv', index=False)\n",
        "\n",
        "# Print a message indicating the process is completed\n",
        "print(\"Geographic information extracted and added to the dataset.\")\n"
      ],
      "metadata": {
        "id": "LB1yxWdA0xIh"
      },
      "execution_count": null,
      "outputs": []
    }
  ]
}