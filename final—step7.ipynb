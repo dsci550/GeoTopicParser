{
  "nbformat": 4,
  "nbformat_minor": 0,
  "metadata": {
    "colab": {
      "provenance": []
    },
    "kernelspec": {
      "name": "python3",
      "display_name": "Python 3"
    },
    "language_info": {
      "name": "python"
    }
  },
  "cells": [
    {
      "cell_type": "code",
      "execution_count": null,
      "metadata": {
        "id": "WUbkn_WErihF"
      },
      "outputs": [],
      "source": [
        "import pandas as pd\n",
        "import requests\n",
        "\n",
        "# Function to extract geographic information from a given text using Tika's GeoTopicParser\n",
        "def extract_geo_info(text):\n",
        "    \"\"\"\n",
        "    Extract geographic information using Apache Tika's GeoTopicParser.\n",
        "\n",
        "    Parameters:\n",
        "        text (str): The text content to parse for geographic information.\n",
        "\n",
        "    Returns:\n",
        "        tuple: A tuple containing the location name, latitude, and longitude.\n",
        "    \"\"\"\n",
        "    # Define the URL of the Tika server's GeoTopicParser endpoint\n",
        "    tika_url = 'http://localhost:9998/rmeta'\n",
        "    headers = {'Content-Disposition': 'inline; filename=file.txt', 'Accept': 'application/json'}\n",
        "\n",
        "    # Send the text to the Tika server and get the response\n",
        "    response = requests.put(tika_url, headers=headers, data=text.encode('utf-8'))\n",
        "\n",
        "    # If the request was successful, parse the response\n",
        "    if response.status_code == 200:\n",
        "        parsed = response.json()[0]\n",
        "        geo_info = parsed.get('Geographic_NAME', 'Unknown')\n",
        "        lat = parsed.get('Geographic_LATITUDE', 'Unknown')\n",
        "        lng = parsed.get('Geographic_LONGITUDE', 'Unknown')\n",
        "    else:\n",
        "        print(f\"Error: {response.status_code}\")\n",
        "        geo_info, lat, lng = 'Unknown', 'Unknown', 'Unknown'\n",
        "\n",
        "    return geo_info, lat, lng\n",
        "\n",
        "# Load the BFRO sightings data from the CSV file\n",
        "data = pd.read_csv('/content/final_report.csv')\n",
        "\n",
        "# Add new columns to the dataset for location name, latitude, and longitude\n",
        "data['Location_Name'] = 'Unknown'\n",
        "data['Latitude'] = 'Unknown'\n",
        "data['Longitude'] = 'Unknown'\n",
        "\n",
        "# Iterate over each sighting report in the dataset\n",
        "for index, row in data.iterrows():\n",
        "    # Concatenate the relevant fields to form the text to be parsed for geographic information\n",
        "    relevant_fields = ['State', 'County', 'Location Details', 'Nearest Town', 'Nearest Road', 'Observed', 'Also Noticed', 'Other Witnesses']\n",
        "    report_text = ' '.join(str(row[field]) for field in relevant_fields if pd.notnull(row[field]))\n",
        "\n",
        "    # Extract geographic information from the concatenated text\n",
        "    location_name, latitude, longitude = extract_geo_info(report_text)\n",
        "\n",
        "    # Update the dataset with the extracted geographic information\n",
        "    data.at[index, 'Location_Name'] = location_name\n",
        "    data.at[index, 'Latitude'] = latitude\n",
        "    data.at[index, 'Longitude'] = longitude\n",
        "\n",
        "# Save the updated dataset to a new CSV file\n",
        "data.to_csv('/content/updated_final_report.csv', index=False)\n",
        "\n",
        "# Print a message indicating the process is completed\n",
        "print(\"Geographic information extracted and added to the dataset.\")\n",
        "\n"
      ]
    }
  ]
}